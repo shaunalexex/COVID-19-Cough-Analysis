{
 "cells": [
  {
   "cell_type": "code",
   "execution_count": 1,
   "id": "3f2205a3",
   "metadata": {},
   "outputs": [],
   "source": [
    "#imports\n",
    "\n",
    "import pandas as pd\n",
    "import librosa \n",
    "import IPython.display as ipd\n",
    "import matplotlib.pyplot as plt\n",
    "import librosa.display\n",
    "from pathlib import Path\n",
    "from segmentation import segment_cough\n",
    "\n",
    "import plaidml.keras\n",
    "plaidml.keras.install_backend()\n",
    "import keras\n",
    "import keras.backend as L\n",
    "from keras.applications.resnet50 import ResNet50\n",
    "from keras.layers import Flatten, Dense, Conv2D, MaxPooling2D, Input, Dropout, Activation\n",
    "from keras.models import Model, Sequential\n",
    "from keras.preprocessing.image import ImageDataGenerator\n",
    "from keras.optimizers import Adam\n",
    "from keras.layers.normalization import BatchNormalization\n",
    "\n",
    "%matplotlib inline"
   ]
  },
  {
   "cell_type": "code",
   "execution_count": null,
   "id": "f0563d8c",
   "metadata": {},
   "outputs": [],
   "source": [
    "#Load the metadata\n",
    "data = pd.read_csv(r'D:\\Projects\\coughvid\\public_dataset\\metadata_compiled.csv')"
   ]
  },
  {
   "cell_type": "code",
   "execution_count": null,
   "id": "104f9904",
   "metadata": {},
   "outputs": [],
   "source": [
    "data = data[data[\"cough_detected\"]>0.29]"
   ]
  },
  {
   "cell_type": "code",
   "execution_count": null,
   "id": "a105fb48",
   "metadata": {},
   "outputs": [],
   "source": [
    "#as mentioned in the COUGHVID crowdsourcing dataset paper\n",
    "SAMPLE_RATE = 48000 "
   ]
  },
  {
   "cell_type": "code",
   "execution_count": null,
   "id": "6aa99ff5",
   "metadata": {},
   "outputs": [],
   "source": [
    "#setting input to model\n",
    "IMAGE_HEIGHT = 512\n",
    "IMAGE_WIDTH = 512\n",
    "IMAGE_CHANNELS = 1"
   ]
  },
  {
   "cell_type": "code",
   "execution_count": null,
   "id": "8de9385f",
   "metadata": {},
   "outputs": [],
   "source": [
    "data[\"Filepath\"] = \"D:\\Projects\\coughvid\\Audio\\\\\"+data[\"uuid\"]"
   ]
  },
  {
   "cell_type": "code",
   "execution_count": null,
   "id": "9dbcbd9b",
   "metadata": {},
   "outputs": [],
   "source": [
    "data = data.sort_values(by=\"cough_detected\", ascending = False)"
   ]
  },
  {
   "cell_type": "code",
   "execution_count": null,
   "id": "b98ac78f",
   "metadata": {},
   "outputs": [],
   "source": [
    "data = data[[\"uuid\",\"cough_detected\",\"Filepath\",\"status\"]]"
   ]
  },
  {
   "cell_type": "code",
   "execution_count": null,
   "id": "3cd00f2a",
   "metadata": {},
   "outputs": [],
   "source": [
    "data.dropna(axis=0, inplace=True)"
   ]
  },
  {
   "cell_type": "code",
   "execution_count": null,
   "id": "6fe59825",
   "metadata": {},
   "outputs": [],
   "source": [
    "data[\"status\"].value_counts()"
   ]
  },
  {
   "cell_type": "code",
   "execution_count": null,
   "id": "47fcf3cf",
   "metadata": {},
   "outputs": [],
   "source": [
    "data = data.groupby('status').apply(lambda x : x.sample(835))"
   ]
  },
  {
   "cell_type": "code",
   "execution_count": null,
   "id": "27bb58f7",
   "metadata": {},
   "outputs": [],
   "source": [
    "data[\"status\"].value_counts()"
   ]
  },
  {
   "cell_type": "code",
   "execution_count": null,
   "id": "73d2c8bb",
   "metadata": {},
   "outputs": [],
   "source": [
    "data"
   ]
  },
  {
   "cell_type": "code",
   "execution_count": null,
   "id": "3c337e4d",
   "metadata": {},
   "outputs": [],
   "source": [
    "def prepare_dataset(destination, sr=SAMPLE_RATE):\n",
    "    for i,x in data.iterrows():\n",
    "        filename = x[\"Filepath\"]\n",
    "        label = x[\"status\"]\n",
    "        uuid = x[\"uuid\"]\n",
    "        if label==\"COVID-19\":\n",
    "            try:\n",
    "                x, sr = librosa.load(filename+\".webm\", sr = sr)\n",
    "            except:\n",
    "                try:\n",
    "                    x, sr = librosa.load(filename+\".ogg\", sr = sr)\n",
    "                except:\n",
    "                    print(\"File does not exist\")\n",
    "            cough_segments, cough_mask = segment_cough(x,sr, cough_padding=0)\n",
    "            dest = destination+\"Mel_Spectrogram\\\\\"+label+\"\\\\\"+uuid+\".png\"\n",
    "            if Path(dest).is_file():\n",
    "                continue\n",
    "            else:\n",
    "                if(len(cough_segments)>0):\n",
    "                    mel_spec = librosa.feature.melspectrogram(cough_segments[0] , sr = sr, n_fft = 2048, hop_length = 512, n_mels = 90)\n",
    "                    log_mel_spec = librosa.power_to_db(mel_spec)\n",
    "                    fig = plt.figure(figsize=(25,10))\n",
    "                    librosa.display.specshow(log_mel_spec,\n",
    "                                      x_axis=\"time\",\n",
    "                                      y_axis=\"mel\",\n",
    "                                      sr=SAMPLE_RATE)\n",
    "                    plt.savefig(dest)\n",
    "                    plt.close()\n",
    "            dest = destination+\"MFCC1\\\\\"+label+\"\\\\\"+uuid+\".png\"\n",
    "            if Path(dest).is_file():\n",
    "                continue\n",
    "            else:\n",
    "                if(len(cough_segments)>0):\n",
    "                    mfcc = librosa.feature.mfcc(cough_segments[0] , sr = sr, n_mfcc=13)\n",
    "                    fig = plt.figure(figsize=(25,10))\n",
    "                    librosa.display.specshow(mfcc,\n",
    "                                      x_axis=\"time\",\n",
    "                                      sr=sr)\n",
    "                    plt.savefig(dest)\n",
    "                    plt.close()"
   ]
  },
  {
   "cell_type": "code",
   "execution_count": null,
   "id": "4b6900a1",
   "metadata": {},
   "outputs": [],
   "source": [
    "prepare_dataset(\"D:\\Projects\\coughvid\\\\\")"
   ]
  },
  {
   "cell_type": "code",
   "execution_count": null,
   "id": "66266960",
   "metadata": {},
   "outputs": [],
   "source": []
  }
 ],
 "metadata": {
  "kernelspec": {
   "display_name": "Python 3",
   "language": "python",
   "name": "python3"
  },
  "language_info": {
   "codemirror_mode": {
    "name": "ipython",
    "version": 3
   },
   "file_extension": ".py",
   "mimetype": "text/x-python",
   "name": "python",
   "nbconvert_exporter": "python",
   "pygments_lexer": "ipython3",
   "version": "3.8.8"
  }
 },
 "nbformat": 4,
 "nbformat_minor": 5
}
