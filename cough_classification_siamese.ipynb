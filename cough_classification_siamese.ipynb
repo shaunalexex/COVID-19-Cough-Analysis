{
  "nbformat": 4,
  "nbformat_minor": 0,
  "metadata": {
    "colab": {
      "name": "cough_classification_siamese.ipynb",
      "provenance": []
    },
    "kernelspec": {
      "name": "python3",
      "display_name": "Python 3"
    },
    "language_info": {
      "name": "python"
    }
  },
  "cells": [
    {
      "cell_type": "code",
      "metadata": {
        "id": "49A4bhMZyTiK"
      },
      "source": [
        "import numpy as np\n",
        "import pandas as pd\n",
        "import os\n",
        "import matplotlib.pyplot as plt\n",
        "\n",
        "import random\n",
        "import keras\n",
        "from keras.models import Sequential\n",
        "import time\n",
        "from keras.optimizers import Adam,RMSprop\n",
        "from keras.layers import Conv2D, ZeroPadding2D, Activation, Input, concatenate\n",
        "from keras.models import Model\n",
        "import seaborn as sns\n",
        "from keras.layers.normalization import BatchNormalization\n",
        "from keras.layers.pooling import MaxPooling2D\n",
        "from keras.layers.core import Lambda, Flatten, Dense\n",
        "from keras.initializers import glorot_uniform\n",
        "from keras.optimizers import *\n",
        "from keras.engine.topology import Layer\n",
        "from keras import backend as K\n",
        "from keras.regularizers import l2\n",
        "import pandas as pd\n",
        "import cv2 as cv\n",
        "from keras.preprocessing.image import ImageDataGenerator\n"
      ],
      "execution_count": 2,
      "outputs": []
    },
    {
      "cell_type": "code",
      "metadata": {
        "colab": {
          "base_uri": "https://localhost:8080/"
        },
        "id": "kc4EV-M2cMHT",
        "outputId": "63be87ca-3e7e-4cf6-cd19-76e431da3663"
      },
      "source": [
        "from google.colab import drive\n",
        "drive.mount('/content/drive')"
      ],
      "execution_count": 1,
      "outputs": [
        {
          "output_type": "stream",
          "text": [
            "Drive already mounted at /content/drive; to attempt to forcibly remount, call drive.mount(\"/content/drive\", force_remount=True).\n"
          ],
          "name": "stdout"
        }
      ]
    },
    {
      "cell_type": "code",
      "metadata": {
        "id": "BnJLHZYVF8jN"
      },
      "source": [
        "covid_path= '/content/drive/MyDrive/Coughvid /MFCC1/COVID-19'\n",
        "healthy_path = '/content/drive/MyDrive/Coughvid /MFCC1/healthy'\n",
        "symptomatic_path = '/content/drive/MyDrive/Coughvid /MFCC1/symptomatic'"
      ],
      "execution_count": null,
      "outputs": []
    },
    {
      "cell_type": "code",
      "metadata": {
        "id": "q9mYt4d2Cndl"
      },
      "source": [
        "covid_model = covid_path + '/0b0d7e10-8353-4124-a16b-bf96e405f63c.png'\n",
        "healthy_model = healthy_path + '/0aa0ef30-0df7-42d0-b1bf-017f8647b92c.png'\n",
        "symptomatic_model = symptomatic_path + '/0bbac203-c99f-4895-ad6a-85202f1d93a2.png'"
      ],
      "execution_count": null,
      "outputs": []
    },
    {
      "cell_type": "code",
      "metadata": {
        "id": "L0nGqUqsJrn0"
      },
      "source": [
        "df = pd.DataFrame()"
      ],
      "execution_count": null,
      "outputs": []
    },
    {
      "cell_type": "code",
      "metadata": {
        "id": "GlAxzGu9JCcx"
      },
      "source": [
        "X1 = []\n",
        "X2 = []\n",
        "Y = []\n",
        "\n",
        "for file in os.listdir(covid_path):\n",
        "  X1.append(covid_model)\n",
        "  X2.append(os.path.join(covid_path,file))\n",
        "  Y.append(0)\n",
        "\n",
        "for file in os.listdir(healthy_path):\n",
        "  X1.append(healthy_model)\n",
        "  X2.append(os.path.join(healthy_path,file))\n",
        "  Y.append(0)\n",
        "\n",
        "for file in os.listdir(symptomatic_path):\n",
        "  X1.append(symptomatic_model)\n",
        "  X2.append(os.path.join(symptomatic_path,file))\n",
        "  Y.append(0)"
      ],
      "execution_count": null,
      "outputs": []
    },
    {
      "cell_type": "code",
      "metadata": {
        "id": "N2S45mA8KJUi"
      },
      "source": [
        "for file in os.listdir(covid_path):\n",
        "  X1.append(healthy_model)\n",
        "  X1.append(symptomatic_model)\n",
        "  X2.append(os.path.join(covid_path,file))\n",
        "  X2.append(os.path.join(covid_path,file))\n",
        "  Y.append(1)\n",
        "  Y.append(1)\n",
        "\n",
        "for file in os.listdir(healthy_path):\n",
        "  X1.append(covid_model)\n",
        "  X1.append(symptomatic_model)\n",
        "  X2.append(os.path.join(healthy_path,file))\n",
        "  X2.append(os.path.join(healthy_path,file))\n",
        "  Y.append(1)\n",
        "  Y.append(1)\n",
        "\n",
        "for file in os.listdir(symptomatic_path):\n",
        "  X1.append(healthy_model)\n",
        "  X1.append(covid_model)\n",
        "  X2.append(os.path.join(symptomatic_path,file))\n",
        "  X2.append(os.path.join(symptomatic_path,file))\n",
        "  Y.append(1)\n",
        "  Y.append(1)"
      ],
      "execution_count": null,
      "outputs": []
    },
    {
      "cell_type": "code",
      "metadata": {
        "id": "NMivdbX9Kqi6"
      },
      "source": [
        "df[\"X1\"] = X1\n",
        "df[\"X2\"] = X2\n",
        "df[\"Y\"] = Y"
      ],
      "execution_count": null,
      "outputs": []
    },
    {
      "cell_type": "code",
      "metadata": {
        "id": "Fv30dBx5K7iR"
      },
      "source": [
        "df = df.sample(frac=1).reset_index(drop=True)"
      ],
      "execution_count": null,
      "outputs": []
    },
    {
      "cell_type": "code",
      "metadata": {
        "id": "4j9KDcRHvL7L"
      },
      "source": [
        "from sklearn.model_selection import train_test_split\n",
        "\n",
        "train, test = train_test_split(df, test_size = 0.2)"
      ],
      "execution_count": null,
      "outputs": []
    },
    {
      "cell_type": "code",
      "metadata": {
        "id": "OGYYQ44XgCks",
        "colab": {
          "base_uri": "https://localhost:8080/",
          "height": 239
        },
        "outputId": "bee2cfa7-5fb1-40b9-a461-4a3102fdf597"
      },
      "source": [
        "input_imgen = ImageDataGenerator(rescale = 1./255)\n",
        "\n",
        "test_imgen = ImageDataGenerator(rescale = 1./255)\n",
        "\n",
        "\n",
        "\n",
        "def generate_generator_multiple(generator,df, batch_size, img_height,img_width):\n",
        "    genX1 = generator.flow_from_dataframe(df,\n",
        "                                          directory = None,\n",
        "                                          x_col = \"X1\",\n",
        "                                          y_col = \"Y\",\n",
        "                                          color_mode = \"grayscale\",\n",
        "                                          target_size = (img_height,img_width),\n",
        "                                          class_mode = 'raw',\n",
        "                                          batch_size = batch_size,\n",
        "                                          shuffle=False, \n",
        "                                          seed=7)\n",
        "    \n",
        "    genX2 = generator.flow_from_dataframe(df,\n",
        "                                          directory = None,\n",
        "                                          x_col = \"X2\",\n",
        "                                          y_col = \"Y\",\n",
        "                                          color_mode = \"grayscale\",\n",
        "                                          target_size = (img_height,img_width),\n",
        "                                          class_mode = 'raw',\n",
        "                                          batch_size = batch_size,\n",
        "                                          shuffle=False, \n",
        "                                          seed=7)\n",
        "    while True:\n",
        "            X1i = genX1.next()\n",
        "            X2i = genX2.next()\n",
        "            yield [X1i[0], X2i[0]], X2i[1]  #Yield both images and their mutual label\n",
        "            \n",
        "batch_size = 128\n",
        "img_height = 300\n",
        "img_width = 300\n",
        "\n",
        "inputgenerator=generate_generator_multiple(generator=input_imgen,\n",
        "                                           df = train,\n",
        "                                           batch_size=batch_size,\n",
        "                                           img_height=img_height,\n",
        "                                           img_width=img_height)       \n",
        "     \n",
        "             \n",
        "          "
      ],
      "execution_count": 4,
      "outputs": [
        {
          "output_type": "error",
          "ename": "NameError",
          "evalue": "ignored",
          "traceback": [
            "\u001b[0;31m---------------------------------------------------------------------------\u001b[0m",
            "\u001b[0;31mNameError\u001b[0m                                 Traceback (most recent call last)",
            "\u001b[0;32m<ipython-input-4-972fd956c12b>\u001b[0m in \u001b[0;36m<module>\u001b[0;34m()\u001b[0m\n\u001b[1;32m     37\u001b[0m \u001b[0;34m\u001b[0m\u001b[0m\n\u001b[1;32m     38\u001b[0m inputgenerator=generate_generator_multiple(generator=input_imgen,\n\u001b[0;32m---> 39\u001b[0;31m                                            \u001b[0mdf\u001b[0m \u001b[0;34m=\u001b[0m \u001b[0mtrain\u001b[0m\u001b[0;34m,\u001b[0m\u001b[0;34m\u001b[0m\u001b[0;34m\u001b[0m\u001b[0m\n\u001b[0m\u001b[1;32m     40\u001b[0m                                            \u001b[0mbatch_size\u001b[0m\u001b[0;34m=\u001b[0m\u001b[0mbatch_size\u001b[0m\u001b[0;34m,\u001b[0m\u001b[0;34m\u001b[0m\u001b[0;34m\u001b[0m\u001b[0m\n\u001b[1;32m     41\u001b[0m                                            \u001b[0mimg_height\u001b[0m\u001b[0;34m=\u001b[0m\u001b[0mimg_height\u001b[0m\u001b[0;34m,\u001b[0m\u001b[0;34m\u001b[0m\u001b[0;34m\u001b[0m\u001b[0m\n",
            "\u001b[0;31mNameError\u001b[0m: name 'train' is not defined"
          ]
        }
      ]
    },
    {
      "cell_type": "code",
      "metadata": {
        "id": "oNw0EtfjioYq"
      },
      "source": [
        "def create_model(input_shape):\n",
        "  left_input = Input(input_shape)\n",
        "  right_input = Input(input_shape)\n",
        "  model = Sequential()\n",
        "\n",
        "  model.add(Conv2D(32, kernel_size=(3, 3), input_shape=input_shape))\n",
        "  model.add(BatchNormalization())\n",
        "  model.add(Activation(activation='relu'))\n",
        "  model.add(MaxPooling2D(pool_size=(2, 2)))\n",
        "\n",
        "  model.add(Conv2D(64, kernel_size=(3, 3)))\n",
        "  model.add(BatchNormalization())\n",
        "  model.add(Activation(activation='relu'))\n",
        "  model.add(MaxPooling2D(pool_size=(2, 2)))\n",
        "\n",
        "  model.add(Flatten())\n",
        "  model.add(Dense(128))\n",
        "  model.add(BatchNormalization())\n",
        "  model.add(Activation(activation='relu'))\n",
        "\n",
        "  encoded_l = model(left_input)\n",
        "  encoded_r = model(right_input)\n",
        "\n",
        "  L1_layer = Lambda(lambda tensors:K.abs(tensors[0] - tensors[1]))\n",
        "  L1_distance = L1_layer([encoded_l, encoded_r])\n",
        "  prediction = Dense(1,activation='sigmoid')(L1_distance)\n",
        "\n",
        " \n",
        "\n",
        "  siamese_net = Model(inputs=[left_input,right_input],outputs=prediction)\n",
        "\n",
        "  return siamese_net"
      ],
      "execution_count": 3,
      "outputs": []
    },
    {
      "cell_type": "code",
      "metadata": {
        "id": "x23-I7uriwuY",
        "colab": {
          "base_uri": "https://localhost:8080/"
        },
        "outputId": "813a0221-2a04-4440-f0f3-1ad007fbe289"
      },
      "source": [
        "model = create_model((300, 300, 1))\n",
        "model.summary()"
      ],
      "execution_count": 5,
      "outputs": [
        {
          "output_type": "stream",
          "text": [
            "Model: \"model\"\n",
            "__________________________________________________________________________________________________\n",
            "Layer (type)                    Output Shape         Param #     Connected to                     \n",
            "==================================================================================================\n",
            "input_1 (InputLayer)            [(None, 300, 300, 1) 0                                            \n",
            "__________________________________________________________________________________________________\n",
            "input_2 (InputLayer)            [(None, 300, 300, 1) 0                                            \n",
            "__________________________________________________________________________________________________\n",
            "sequential (Sequential)         (None, 128)          43675008    input_1[0][0]                    \n",
            "                                                                 input_2[0][0]                    \n",
            "__________________________________________________________________________________________________\n",
            "lambda (Lambda)                 (None, 128)          0           sequential[0][0]                 \n",
            "                                                                 sequential[1][0]                 \n",
            "__________________________________________________________________________________________________\n",
            "dense_1 (Dense)                 (None, 1)            129         lambda[0][0]                     \n",
            "==================================================================================================\n",
            "Total params: 43,675,137\n",
            "Trainable params: 43,674,689\n",
            "Non-trainable params: 448\n",
            "__________________________________________________________________________________________________\n"
          ],
          "name": "stdout"
        }
      ]
    },
    {
      "cell_type": "code",
      "metadata": {
        "id": "fcUOfrjtjEZT"
      },
      "source": [
        "optimizer = Adam(learning_rate = 0.0001)\n",
        "model.compile(loss='binary_crossentropy', optimizer=optimizer, metrics='accuracy')"
      ],
      "execution_count": 6,
      "outputs": []
    },
    {
      "cell_type": "code",
      "metadata": {
        "id": "mWQY8dVdjFC_",
        "colab": {
          "base_uri": "https://localhost:8080/",
          "height": 339
        },
        "outputId": "ac83291f-2d00-4697-f681-e6094c0da9db"
      },
      "source": [
        "from keras.utils.vis_utils import plot_model\n",
        "plot_model(model, to_file='model_plot.png', show_shapes=True, show_layer_names=True)"
      ],
      "execution_count": 7,
      "outputs": [
        {
          "output_type": "execute_result",
          "data": {
            "image/png": "[encoded data removed]",
            "text/plain": [
              "<IPython.core.display.Image object>"
            ]
          },
          "metadata": {
            "tags": []
          },
          "execution_count": 7
        }
      ]
    },
    {
      "cell_type": "code",
      "metadata": {
        "id": "5f8hl5XTieBh",
        "colab": {
          "base_uri": "https://localhost:8080/"
        },
        "outputId": "94c390b9-256a-4b8c-83b0-ccc3b081e566"
      },
      "source": [
        " history=model.fit(inputgenerator,\n",
        "                        steps_per_epoch=len(train)/batch_size,\n",
        "                        epochs = 6,\n",
        "                        use_multiprocessing=True,\n",
        "                        shuffle=False)"
      ],
      "execution_count": null,
      "outputs": [
        {
          "output_type": "stream",
          "text": [
            "Found 6115 validated image filenames.\n",
            "Found 6115 validated image filenames.\n",
            "Epoch 1/6\n",
            "47/47 [==============================] - 260s 5s/step - loss: 0.6825 - accuracy: 0.6001\n",
            "Epoch 2/6\n",
            "47/47 [==============================] - 242s 5s/step - loss: 0.5939 - accuracy: 0.6868\n",
            "Epoch 3/6\n",
            "47/47 [==============================] - 244s 5s/step - loss: 0.5642 - accuracy: 0.7037\n",
            "Epoch 4/6\n",
            "47/47 [==============================] - 244s 5s/step - loss: 0.5390 - accuracy: 0.7313\n",
            "Epoch 5/6\n",
            "47/47 [==============================] - 244s 5s/step - loss: 0.5179 - accuracy: 0.7434\n",
            "Epoch 6/6\n",
            "47/47 [==============================] - 243s 5s/step - loss: 0.4935 - accuracy: 0.7660\n"
          ],
          "name": "stdout"
        }
      ]
    },
    {
      "cell_type": "code",
      "metadata": {
        "colab": {
          "base_uri": "https://localhost:8080/"
        },
        "id": "Ptzbi9wrtZrv",
        "outputId": "301ad7e4-85f2-462a-83aa-a7669e40392d"
      },
      "source": [
        "model.save('/content/drive/MyDrive/Coughvid ')"
      ],
      "execution_count": null,
      "outputs": [
        {
          "output_type": "stream",
          "text": [
            "INFO:tensorflow:Assets written to: /content/drive/MyDrive/Coughvid /assets\n"
          ],
          "name": "stdout"
        }
      ]
    },
    {
      "cell_type": "code",
      "metadata": {
        "id": "yirxI0Rd-u6t"
      },
      "source": [
        "model = keras.models.load_model('/content/drive/MyDrive/Coughvid ')"
      ],
      "execution_count": null,
      "outputs": []
    },
    {
      "cell_type": "code",
      "metadata": {
        "id": "SckwDTzu5xkK"
      },
      "source": [
        "from sklearn.metrics import confusion_matrix,classification_report\n",
        "from sklearn.metrics import accuracy_score"
      ],
      "execution_count": null,
      "outputs": []
    },
    {
      "cell_type": "markdown",
      "metadata": {
        "id": "fe84YX1pDiRF"
      },
      "source": [
        "We have a test folder with 100 images from each class"
      ]
    },
    {
      "cell_type": "code",
      "metadata": {
        "id": "cJdZNsRcAzGN"
      },
      "source": [
        "test_folder = '/content/drive/MyDrive/Coughvid /MFCC1/test'"
      ],
      "execution_count": null,
      "outputs": []
    },
    {
      "cell_type": "code",
      "metadata": {
        "id": "qeFlFjbBFCZL"
      },
      "source": [
        "test_df = pd.DataFrame()"
      ],
      "execution_count": null,
      "outputs": []
    },
    {
      "cell_type": "code",
      "metadata": {
        "id": "o01T5hdZDzQL"
      },
      "source": [
        "anchor = []\n",
        "testing = []\n",
        "label = []\n",
        "for folder in os.listdir(test_folder):\n",
        "  foldern = os.path.join(test_folder,folder)\n",
        "  for file in os.listdir(foldern):\n",
        "    filename = os.path.join(foldern,file)\n",
        "    if folder==\"COVID-19\":\n",
        "      anchor.append(covid_model)\n",
        "      testing.append(filename)\n",
        "      label.append(0)\n",
        "      anchor.append(healthy_model)\n",
        "      anchor.append(symptomatic_model)\n",
        "      testing.append(filename)\n",
        "      testing.append(filename)\n",
        "      label.append(1)\n",
        "      label.append(1)\n",
        "    if folder==\"symptomatic\":\n",
        "      anchor.append(symptomatic_model)\n",
        "      testing.append(filename)\n",
        "      label.append(0)\n",
        "      anchor.append(healthy_model)\n",
        "      anchor.append(covid_model)\n",
        "      testing.append(filename)\n",
        "      testing.append(filename)\n",
        "      label.append(1)\n",
        "      label.append(1)\n",
        "    if folder==\"healthy\":\n",
        "      anchor.append(healthy_model)\n",
        "      testing.append(filename)\n",
        "      label.append(0)\n",
        "      anchor.append(covid_model)\n",
        "      anchor.append(symptomatic_model)\n",
        "      testing.append(filename)\n",
        "      testing.append(filename)\n",
        "      label.append(1)\n",
        "      label.append(1)"
      ],
      "execution_count": null,
      "outputs": []
    },
    {
      "cell_type": "code",
      "metadata": {
        "colab": {
          "base_uri": "https://localhost:8080/"
        },
        "id": "aKOPXngZHxRq",
        "outputId": "cefbb0cf-62b9-4fcc-84d8-63cbf66a3863"
      },
      "source": [
        "len(label)"
      ],
      "execution_count": null,
      "outputs": [
        {
          "output_type": "execute_result",
          "data": {
            "text/plain": [
              "900"
            ]
          },
          "metadata": {
            "tags": []
          },
          "execution_count": 21
        }
      ]
    },
    {
      "cell_type": "code",
      "metadata": {
        "id": "jWp2Tc0LG1qK"
      },
      "source": [
        "test_df[\"X1\"] = anchor\n",
        "test_df[\"X2\"] = testing\n",
        "test_df[\"Y\"] = label"
      ],
      "execution_count": null,
      "outputs": []
    },
    {
      "cell_type": "code",
      "metadata": {
        "id": "Xh5xoxb_Hjji"
      },
      "source": [
        "testgenerator=generate_generator_multiple(test_imgen,\n",
        "                                          df = test_df,\n",
        "                                          batch_size=batch_size,\n",
        "                                          img_height=img_height,\n",
        "                                          img_width=img_height) "
      ],
      "execution_count": null,
      "outputs": []
    },
    {
      "cell_type": "code",
      "metadata": {
        "id": "hxRtiqWdIx5D"
      },
      "source": [
        "pred = model.predict(testgenerator, steps = len(test_df)/batch_size)"
      ],
      "execution_count": null,
      "outputs": []
    },
    {
      "cell_type": "code",
      "metadata": {
        "id": "1z1fA-QCJJDZ"
      },
      "source": [
        "test_df[\"preds\"] = pred"
      ],
      "execution_count": null,
      "outputs": []
    },
    {
      "cell_type": "code",
      "metadata": {
        "id": "YQFRSaTZNhXg"
      },
      "source": [
        "data = test_df[[\"Y\",\"preds\"]].head(30)"
      ],
      "execution_count": null,
      "outputs": []
    },
    {
      "cell_type": "code",
      "metadata": {
        "id": "qOWKL8MkPQju"
      },
      "source": [
        "prediction = [1]*900"
      ],
      "execution_count": null,
      "outputs": []
    },
    {
      "cell_type": "code",
      "metadata": {
        "id": "2accL4YTQiyn"
      },
      "source": [
        "for i in range(0,len(pred)-3,3):\n",
        "  value0 = pred[i]\n",
        "  value1 = pred[i+1]\n",
        "  value2 = pred[i+2]\n",
        "  li = (value0,value1,value2)\n",
        "  index = li.index(min(li))\n",
        "  pos = i + index\n",
        "  prediction[pos] = 0"
      ],
      "execution_count": null,
      "outputs": []
    },
    {
      "cell_type": "code",
      "metadata": {
        "id": "MDvpWWZRviGg"
      },
      "source": [
        "test_df[\"prediction\"] = prediction"
      ],
      "execution_count": null,
      "outputs": []
    },
    {
      "cell_type": "code",
      "metadata": {
        "id": "e8ipPn2UwPKx"
      },
      "source": [
        "true = test_df[\"Y\"]"
      ],
      "execution_count": null,
      "outputs": []
    },
    {
      "cell_type": "code",
      "metadata": {
        "colab": {
          "base_uri": "https://localhost:8080/",
          "height": 587
        },
        "id": "daly0Jmjxr-_",
        "outputId": "4fa7cf17-e6ea-462a-cceb-5207fdd29a36"
      },
      "source": [
        "test_df"
      ],
      "execution_count": null,
      "outputs": [
        {
          "output_type": "execute_result",
          "data": {
            "text/html": [
              "<div>\n",
              "<style scoped>\n",
              "    .dataframe tbody tr th:only-of-type {\n",
              "        vertical-align: middle;\n",
              "    }\n",
              "\n",
              "    .dataframe tbody tr th {\n",
              "        vertical-align: top;\n",
              "    }\n",
              "\n",
              "    .dataframe thead th {\n",
              "        text-align: right;\n",
              "    }\n",
              "</style>\n",
              "<table border=\"1\" class=\"dataframe\">\n",
              "  <thead>\n",
              "    <tr style=\"text-align: right;\">\n",
              "      <th></th>\n",
              "      <th>X1</th>\n",
              "      <th>X2</th>\n",
              "      <th>Y</th>\n",
              "      <th>preds</th>\n",
              "      <th>prediction</th>\n",
              "    </tr>\n",
              "  </thead>\n",
              "  <tbody>\n",
              "    <tr>\n",
              "      <th>0</th>\n",
              "      <td>/content/drive/MyDrive/Coughvid /MFCC1/COVID-1...</td>\n",
              "      <td>/content/drive/MyDrive/Coughvid /MFCC1/test/CO...</td>\n",
              "      <td>0</td>\n",
              "      <td>0.509009</td>\n",
              "      <td>0</td>\n",
              "    </tr>\n",
              "    <tr>\n",
              "      <th>1</th>\n",
              "      <td>/content/drive/MyDrive/Coughvid /MFCC1/healthy...</td>\n",
              "      <td>/content/drive/MyDrive/Coughvid /MFCC1/test/CO...</td>\n",
              "      <td>1</td>\n",
              "      <td>0.596453</td>\n",
              "      <td>1</td>\n",
              "    </tr>\n",
              "    <tr>\n",
              "      <th>2</th>\n",
              "      <td>/content/drive/MyDrive/Coughvid /MFCC1/symptom...</td>\n",
              "      <td>/content/drive/MyDrive/Coughvid /MFCC1/test/CO...</td>\n",
              "      <td>1</td>\n",
              "      <td>0.575532</td>\n",
              "      <td>1</td>\n",
              "    </tr>\n",
              "    <tr>\n",
              "      <th>3</th>\n",
              "      <td>/content/drive/MyDrive/Coughvid /MFCC1/COVID-1...</td>\n",
              "      <td>/content/drive/MyDrive/Coughvid /MFCC1/test/CO...</td>\n",
              "      <td>0</td>\n",
              "      <td>0.576802</td>\n",
              "      <td>1</td>\n",
              "    </tr>\n",
              "    <tr>\n",
              "      <th>4</th>\n",
              "      <td>/content/drive/MyDrive/Coughvid /MFCC1/healthy...</td>\n",
              "      <td>/content/drive/MyDrive/Coughvid /MFCC1/test/CO...</td>\n",
              "      <td>1</td>\n",
              "      <td>0.673987</td>\n",
              "      <td>1</td>\n",
              "    </tr>\n",
              "    <tr>\n",
              "      <th>...</th>\n",
              "      <td>...</td>\n",
              "      <td>...</td>\n",
              "      <td>...</td>\n",
              "      <td>...</td>\n",
              "      <td>...</td>\n",
              "    </tr>\n",
              "    <tr>\n",
              "      <th>895</th>\n",
              "      <td>/content/drive/MyDrive/Coughvid /MFCC1/healthy...</td>\n",
              "      <td>/content/drive/MyDrive/Coughvid /MFCC1/test/sy...</td>\n",
              "      <td>1</td>\n",
              "      <td>0.597773</td>\n",
              "      <td>1</td>\n",
              "    </tr>\n",
              "    <tr>\n",
              "      <th>896</th>\n",
              "      <td>/content/drive/MyDrive/Coughvid /MFCC1/COVID-1...</td>\n",
              "      <td>/content/drive/MyDrive/Coughvid /MFCC1/test/sy...</td>\n",
              "      <td>1</td>\n",
              "      <td>0.599051</td>\n",
              "      <td>1</td>\n",
              "    </tr>\n",
              "    <tr>\n",
              "      <th>897</th>\n",
              "      <td>/content/drive/MyDrive/Coughvid /MFCC1/symptom...</td>\n",
              "      <td>/content/drive/MyDrive/Coughvid /MFCC1/test/sy...</td>\n",
              "      <td>0</td>\n",
              "      <td>0.590069</td>\n",
              "      <td>1</td>\n",
              "    </tr>\n",
              "    <tr>\n",
              "      <th>898</th>\n",
              "      <td>/content/drive/MyDrive/Coughvid /MFCC1/healthy...</td>\n",
              "      <td>/content/drive/MyDrive/Coughvid /MFCC1/test/sy...</td>\n",
              "      <td>1</td>\n",
              "      <td>0.642554</td>\n",
              "      <td>1</td>\n",
              "    </tr>\n",
              "    <tr>\n",
              "      <th>899</th>\n",
              "      <td>/content/drive/MyDrive/Coughvid /MFCC1/COVID-1...</td>\n",
              "      <td>/content/drive/MyDrive/Coughvid /MFCC1/test/sy...</td>\n",
              "      <td>1</td>\n",
              "      <td>0.566942</td>\n",
              "      <td>1</td>\n",
              "    </tr>\n",
              "  </tbody>\n",
              "</table>\n",
              "<p>900 rows × 5 columns</p>\n",
              "</div>"
            ],
            "text/plain": [
              "                                                    X1  ... prediction\n",
              "0    /content/drive/MyDrive/Coughvid /MFCC1/COVID-1...  ...          0\n",
              "1    /content/drive/MyDrive/Coughvid /MFCC1/healthy...  ...          1\n",
              "2    /content/drive/MyDrive/Coughvid /MFCC1/symptom...  ...          1\n",
              "3    /content/drive/MyDrive/Coughvid /MFCC1/COVID-1...  ...          1\n",
              "4    /content/drive/MyDrive/Coughvid /MFCC1/healthy...  ...          1\n",
              "..                                                 ...  ...        ...\n",
              "895  /content/drive/MyDrive/Coughvid /MFCC1/healthy...  ...          1\n",
              "896  /content/drive/MyDrive/Coughvid /MFCC1/COVID-1...  ...          1\n",
              "897  /content/drive/MyDrive/Coughvid /MFCC1/symptom...  ...          1\n",
              "898  /content/drive/MyDrive/Coughvid /MFCC1/healthy...  ...          1\n",
              "899  /content/drive/MyDrive/Coughvid /MFCC1/COVID-1...  ...          1\n",
              "\n",
              "[900 rows x 5 columns]"
            ]
          },
          "metadata": {
            "tags": []
          },
          "execution_count": 52
        }
      ]
    },
    {
      "cell_type": "code",
      "metadata": {
        "colab": {
          "base_uri": "https://localhost:8080/"
        },
        "id": "PcpeCmUF4BUf",
        "outputId": "60a6925f-4cb4-4bdb-9e23-744f6345205c"
      },
      "source": [
        "print(\"Accuracy is {}\".format(accuracy_score(test_df[\"Y\"].to_list(),test_df[\"prediction\"].to_list())))"
      ],
      "execution_count": null,
      "outputs": [
        {
          "output_type": "stream",
          "text": [
            "Accuracy is 0.6566666666666666\n"
          ],
          "name": "stdout"
        }
      ]
    },
    {
      "cell_type": "code",
      "metadata": {
        "id": "ATk6OActwpPH"
      },
      "source": [
        "def print_recall(check):\n",
        "  correct = 0\n",
        "  total = 0\n",
        "  for _,x in test_df.iterrows():\n",
        "    category = x[\"X2\"].split(\"/\")[7]\n",
        "    truth = x[\"Y\"]\n",
        "    pre = x[\"prediction\"]\n",
        "    if category==check:\n",
        "      total+=1\n",
        "      if truth==pre:\n",
        "        correct+=1\n",
        "  accuracy = correct/total\n",
        "  print(\"Recall of {} is {} \".format(check,accuracy))"
      ],
      "execution_count": null,
      "outputs": []
    },
    {
      "cell_type": "code",
      "metadata": {
        "colab": {
          "base_uri": "https://localhost:8080/"
        },
        "id": "ed6BEAObzzH1",
        "outputId": "9e382dc3-5145-4624-da77-5bc242ff76d3"
      },
      "source": [
        "print_recall(\"COVID-19\")"
      ],
      "execution_count": null,
      "outputs": [
        {
          "output_type": "stream",
          "text": [
            "Recall of COVID-19 is 0.8133333333333334 \n"
          ],
          "name": "stdout"
        }
      ]
    },
    {
      "cell_type": "code",
      "metadata": {
        "colab": {
          "base_uri": "https://localhost:8080/"
        },
        "id": "krtkEPAvz84w",
        "outputId": "b101bdc0-4b3d-43d7-ca27-ea2063fdff4b"
      },
      "source": [
        "print_recall(\"healthy\")"
      ],
      "execution_count": null,
      "outputs": [
        {
          "output_type": "stream",
          "text": [
            "Recall of healthy is 0.5933333333333334 \n"
          ],
          "name": "stdout"
        }
      ]
    },
    {
      "cell_type": "code",
      "metadata": {
        "colab": {
          "base_uri": "https://localhost:8080/"
        },
        "id": "MK0Rgsqfz_dm",
        "outputId": "38f56159-2f46-4198-bb64-b8e45da07dd2"
      },
      "source": [
        "print_recall(\"symptomatic\")"
      ],
      "execution_count": null,
      "outputs": [
        {
          "output_type": "stream",
          "text": [
            "Recall of symptomatic is 0.5633333333333334 \n"
          ],
          "name": "stdout"
        }
      ]
    }
  ]
}